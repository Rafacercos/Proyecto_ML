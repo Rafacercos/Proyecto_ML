{
 "cells": [
  {
   "cell_type": "code",
   "execution_count": 1,
   "id": "b0d67087",
   "metadata": {},
   "outputs": [],
   "source": [
    "import pandas as pd \n",
    "import numpy as np\n",
    "import matplotlib.pyplot as plt \n",
    "import seaborn as sns "
   ]
  },
  {
   "cell_type": "code",
   "execution_count": 2,
   "id": "f9b7bd96",
   "metadata": {},
   "outputs": [],
   "source": [
    "df = pd.read_csv(\"adult.data\",header=None)"
   ]
  },
  {
   "cell_type": "code",
   "execution_count": 3,
   "id": "fd0ef473",
   "metadata": {},
   "outputs": [],
   "source": [
    "df.rename(columns= {\n",
    "    0: \"age\",\n",
    "    1: \"workclass\",\n",
    "    2: \"fnlwgt\",\n",
    "    3: \"education\",\n",
    "    4: \"education-num\",\n",
    "    5: \"marital-status\",\n",
    "    6: \"occupation\",\n",
    "    7: \"relationship\",\n",
    "    8: \"race\",\n",
    "    9: \"sex\",\n",
    "    10: \"capital-gain\",\n",
    "    11: \"capital-loss\",\n",
    "    12: \"hours-per-week\",\n",
    "    13: \"native-country\",\n",
    "    14: \"income\"\n",
    "    \n",
    "},inplace=True)"
   ]
  },
  {
   "cell_type": "code",
   "execution_count": 4,
   "id": "dbb38311",
   "metadata": {},
   "outputs": [
    {
     "name": "stdout",
     "output_type": "stream",
     "text": [
      "<class 'pandas.core.frame.DataFrame'>\n",
      "RangeIndex: 32561 entries, 0 to 32560\n",
      "Data columns (total 15 columns):\n",
      " #   Column          Non-Null Count  Dtype \n",
      "---  ------          --------------  ----- \n",
      " 0   age             32561 non-null  int64 \n",
      " 1   workclass       32561 non-null  object\n",
      " 2   fnlwgt          32561 non-null  int64 \n",
      " 3   education       32561 non-null  object\n",
      " 4   education-num   32561 non-null  int64 \n",
      " 5   marital-status  32561 non-null  object\n",
      " 6   occupation      32561 non-null  object\n",
      " 7   relationship    32561 non-null  object\n",
      " 8   race            32561 non-null  object\n",
      " 9   sex             32561 non-null  object\n",
      " 10  capital-gain    32561 non-null  int64 \n",
      " 11  capital-loss    32561 non-null  int64 \n",
      " 12  hours-per-week  32561 non-null  int64 \n",
      " 13  native-country  32561 non-null  object\n",
      " 14  income          32561 non-null  object\n",
      "dtypes: int64(6), object(9)\n",
      "memory usage: 3.7+ MB\n"
     ]
    }
   ],
   "source": [
    "df.info()"
   ]
  },
  {
   "cell_type": "code",
   "execution_count": 5,
   "id": "9bdc35b0",
   "metadata": {},
   "outputs": [
    {
     "data": {
      "text/plain": [
       "array([' <=50K', ' >50K'], dtype=object)"
      ]
     },
     "execution_count": 5,
     "metadata": {},
     "output_type": "execute_result"
    }
   ],
   "source": [
    "df[\"income\"].unique()"
   ]
  },
  {
   "cell_type": "code",
   "execution_count": 6,
   "id": "4655126f",
   "metadata": {},
   "outputs": [
    {
     "data": {
      "text/plain": [
       "' <=50K'"
      ]
     },
     "execution_count": 6,
     "metadata": {},
     "output_type": "execute_result"
    }
   ],
   "source": [
    "df[\"income\"][0]"
   ]
  },
  {
   "cell_type": "code",
   "execution_count": 7,
   "id": "5646c6a0",
   "metadata": {},
   "outputs": [],
   "source": [
    "valores=[]\n",
    "for x in df[\"income\"]:\n",
    "    valores.append(x.strip())"
   ]
  },
  {
   "cell_type": "code",
   "execution_count": 8,
   "id": "13be849a",
   "metadata": {},
   "outputs": [],
   "source": [
    "df[\"income\"] = valores"
   ]
  },
  {
   "cell_type": "code",
   "execution_count": 9,
   "id": "a6153222",
   "metadata": {},
   "outputs": [],
   "source": [
    "df[\"income\"] = np.where(df[\"income\"]==\"<=50K\",0,1)"
   ]
  },
  {
   "cell_type": "code",
   "execution_count": 10,
   "id": "8cd41edb",
   "metadata": {},
   "outputs": [
    {
     "data": {
      "text/plain": [
       "array([' State-gov', ' Self-emp-not-inc', ' Private', ' Federal-gov',\n",
       "       ' Local-gov', ' ?', ' Self-emp-inc', ' Without-pay',\n",
       "       ' Never-worked'], dtype=object)"
      ]
     },
     "execution_count": 10,
     "metadata": {},
     "output_type": "execute_result"
    }
   ],
   "source": [
    "df[\"workclass\"].unique()"
   ]
  },
  {
   "cell_type": "code",
   "execution_count": 11,
   "id": "da5938f9",
   "metadata": {},
   "outputs": [],
   "source": [
    "df[\"extras\"] = df[\"capital-gain\"]- df[\"capital-loss\"]"
   ]
  },
  {
   "cell_type": "code",
   "execution_count": 12,
   "id": "119fbc96",
   "metadata": {},
   "outputs": [
    {
     "data": {
      "text/html": [
       "<div>\n",
       "<style scoped>\n",
       "    .dataframe tbody tr th:only-of-type {\n",
       "        vertical-align: middle;\n",
       "    }\n",
       "\n",
       "    .dataframe tbody tr th {\n",
       "        vertical-align: top;\n",
       "    }\n",
       "\n",
       "    .dataframe thead th {\n",
       "        text-align: right;\n",
       "    }\n",
       "</style>\n",
       "<table border=\"1\" class=\"dataframe\">\n",
       "  <thead>\n",
       "    <tr style=\"text-align: right;\">\n",
       "      <th></th>\n",
       "      <th>extras</th>\n",
       "      <th>hours-per-week</th>\n",
       "    </tr>\n",
       "    <tr>\n",
       "      <th>workclass</th>\n",
       "      <th></th>\n",
       "      <th></th>\n",
       "    </tr>\n",
       "  </thead>\n",
       "  <tbody>\n",
       "    <tr>\n",
       "      <th>Self-emp-inc</th>\n",
       "      <td>4720.554659</td>\n",
       "      <td>48.818100</td>\n",
       "    </tr>\n",
       "    <tr>\n",
       "      <th>Self-emp-not-inc</th>\n",
       "      <td>1769.430146</td>\n",
       "      <td>44.421881</td>\n",
       "    </tr>\n",
       "    <tr>\n",
       "      <th>Private</th>\n",
       "      <td>809.209068</td>\n",
       "      <td>40.267096</td>\n",
       "    </tr>\n",
       "    <tr>\n",
       "      <th>Local-gov</th>\n",
       "      <td>770.348304</td>\n",
       "      <td>40.982800</td>\n",
       "    </tr>\n",
       "    <tr>\n",
       "      <th>Federal-gov</th>\n",
       "      <td>720.963542</td>\n",
       "      <td>41.379167</td>\n",
       "    </tr>\n",
       "    <tr>\n",
       "      <th>State-gov</th>\n",
       "      <td>618.442989</td>\n",
       "      <td>39.031587</td>\n",
       "    </tr>\n",
       "    <tr>\n",
       "      <th>?</th>\n",
       "      <td>546.035403</td>\n",
       "      <td>31.919390</td>\n",
       "    </tr>\n",
       "    <tr>\n",
       "      <th>Without-pay</th>\n",
       "      <td>487.857143</td>\n",
       "      <td>32.714286</td>\n",
       "    </tr>\n",
       "    <tr>\n",
       "      <th>Never-worked</th>\n",
       "      <td>0.000000</td>\n",
       "      <td>28.428571</td>\n",
       "    </tr>\n",
       "  </tbody>\n",
       "</table>\n",
       "</div>"
      ],
      "text/plain": [
       "                       extras  hours-per-week\n",
       "workclass                                    \n",
       "Self-emp-inc      4720.554659       48.818100\n",
       "Self-emp-not-inc  1769.430146       44.421881\n",
       "Private            809.209068       40.267096\n",
       "Local-gov          770.348304       40.982800\n",
       "Federal-gov        720.963542       41.379167\n",
       "State-gov          618.442989       39.031587\n",
       "?                  546.035403       31.919390\n",
       "Without-pay        487.857143       32.714286\n",
       "Never-worked         0.000000       28.428571"
      ]
     },
     "execution_count": 12,
     "metadata": {},
     "output_type": "execute_result"
    }
   ],
   "source": [
    "df.groupby(\"workclass\")[[\"extras\",\"hours-per-week\"]].mean().sort_values(by=\"extras\",ascending=False)"
   ]
  },
  {
   "cell_type": "code",
   "execution_count": 13,
   "id": "1462af19",
   "metadata": {},
   "outputs": [
    {
     "data": {
      "text/plain": [
       "array([' State-gov', ' Self-emp-not-inc', ' Private', ' Federal-gov',\n",
       "       ' Local-gov', ' ?', ' Self-emp-inc', ' Without-pay',\n",
       "       ' Never-worked'], dtype=object)"
      ]
     },
     "execution_count": 13,
     "metadata": {},
     "output_type": "execute_result"
    }
   ],
   "source": [
    "df[\"workclass\"].unique()"
   ]
  },
  {
   "cell_type": "code",
   "execution_count": 14,
   "id": "8e65c7ee",
   "metadata": {},
   "outputs": [],
   "source": [
    "valores=[]\n",
    "for x in df[\"workclass\"]:\n",
    "    valores.append(x.strip())"
   ]
  },
  {
   "cell_type": "code",
   "execution_count": 15,
   "id": "130fe34b",
   "metadata": {},
   "outputs": [],
   "source": [
    "df[\"workclass\"]=valores"
   ]
  },
  {
   "cell_type": "code",
   "execution_count": 16,
   "id": "2c73337d",
   "metadata": {},
   "outputs": [],
   "source": [
    "mapa_trabajo = {\n",
    "    'State-gov': 'Gobierno estatal',\n",
    "    'Self-emp-not-inc': 'Autónomo no incorporado',\n",
    "    'Private': 'Sector privado',\n",
    "    'Federal-gov': 'Gobierno federal',\n",
    "    'Local-gov': 'Gobierno local',\n",
    "    '?': 'Desconocido',\n",
    "    'Self-emp-inc': 'Autónomo incorporado',\n",
    "    'Without-pay': 'Sin salario',\n",
    "    'Never-worked': 'Nunca ha trabajado'\n",
    "}\n",
    " \n",
    "\n",
    "df[\"workclass\"] = df[\"workclass\"].map(mapa_trabajo)"
   ]
  },
  {
   "cell_type": "code",
   "execution_count": 17,
   "id": "cb5599ed",
   "metadata": {},
   "outputs": [
    {
     "data": {
      "text/plain": [
       "workclass\n",
       "Sector privado             22696\n",
       "Autónomo no incorporado     2541\n",
       "Gobierno local              2093\n",
       "Desconocido                 1836\n",
       "Gobierno estatal            1298\n",
       "Autónomo incorporado        1116\n",
       "Gobierno federal             960\n",
       "Sin salario                   14\n",
       "Nunca ha trabajado             7\n",
       "Name: count, dtype: int64"
      ]
     },
     "execution_count": 17,
     "metadata": {},
     "output_type": "execute_result"
    }
   ],
   "source": [
    "df[\"workclass\"].value_counts()"
   ]
  },
  {
   "cell_type": "code",
   "execution_count": 18,
   "id": "e4128b42",
   "metadata": {},
   "outputs": [],
   "source": [
    "\n",
    "mapa2 = {\n",
    "    'Autónomo incorporado':9,\n",
    "    'Autónomo no incorporado':8,\n",
    "    'Gobierno local':7,\n",
    "    'Gobierno federal':6,\n",
    "    'Gobierno estatal':5,\n",
    "    'Sector privado':4,\n",
    "    'Desconocido':3,\n",
    "    'Sin salario':2,\n",
    "    'Nunca ha trabajado':1\n",
    "}\n",
    " \n",
    "df[\"trabgajo_ord\"] = df[\"workclass\"].map(mapa2)"
   ]
  },
  {
   "cell_type": "code",
   "execution_count": 19,
   "id": "5b612f13",
   "metadata": {},
   "outputs": [
    {
     "data": {
      "text/plain": [
       "array([' Never-married', ' Married-civ-spouse', ' Divorced',\n",
       "       ' Married-spouse-absent', ' Separated', ' Married-AF-spouse',\n",
       "       ' Widowed'], dtype=object)"
      ]
     },
     "execution_count": 19,
     "metadata": {},
     "output_type": "execute_result"
    }
   ],
   "source": [
    "df[\"marital-status\"].unique()"
   ]
  },
  {
   "cell_type": "code",
   "execution_count": 20,
   "id": "46929cec",
   "metadata": {},
   "outputs": [],
   "source": [
    "valores=[]\n",
    "for x in df[\"marital-status\"]:\n",
    "    valores.append(x.strip())\n",
    "\n",
    "df[\"marital-status\"]= valores"
   ]
  },
  {
   "cell_type": "code",
   "execution_count": 21,
   "id": "858684d3",
   "metadata": {},
   "outputs": [],
   "source": [
    "marit_map = {\n",
    "    'Never-married': 'Nunca casado/a',\n",
    "    'Married-civ-spouse': 'Casado/a (civil)',\n",
    "    'Divorced': 'Divorciado/a',\n",
    "    'Married-spouse-absent': 'Cónyuge ausente',\n",
    "    'Separated': 'Separado/a',\n",
    "    'Married-AF-spouse': 'Casado/a (Fuerzas Armadas)',\n",
    "    'Widowed': 'Viudo/a'\n",
    "}\n",
    "\n",
    "df[\"marital-status\"] = df[\"marital-status\"].map(marit_map)"
   ]
  },
  {
   "cell_type": "code",
   "execution_count": 22,
   "id": "4378bf2d",
   "metadata": {},
   "outputs": [],
   "source": [
    "df = pd.get_dummies(df,columns= [\"marital-status\"])"
   ]
  },
  {
   "cell_type": "code",
   "execution_count": 23,
   "id": "556f0180",
   "metadata": {},
   "outputs": [
    {
     "data": {
      "text/plain": [
       "race\n",
       "White                 27816\n",
       "Black                  3124\n",
       "Asian-Pac-Islander     1039\n",
       "Amer-Indian-Eskimo      311\n",
       "Other                   271\n",
       "Name: count, dtype: int64"
      ]
     },
     "execution_count": 23,
     "metadata": {},
     "output_type": "execute_result"
    }
   ],
   "source": [
    "df[\"race\"].value_counts()"
   ]
  },
  {
   "cell_type": "code",
   "execution_count": 24,
   "id": "7136d61f",
   "metadata": {},
   "outputs": [],
   "source": [
    "df = pd.get_dummies(df,columns=[\"race\"])"
   ]
  },
  {
   "cell_type": "code",
   "execution_count": 25,
   "id": "368c0ab3",
   "metadata": {},
   "outputs": [
    {
     "data": {
      "text/plain": [
       "array([' Adm-clerical', ' Exec-managerial', ' Handlers-cleaners',\n",
       "       ' Prof-specialty', ' Other-service', ' Sales', ' Craft-repair',\n",
       "       ' Transport-moving', ' Farming-fishing', ' Machine-op-inspct',\n",
       "       ' Tech-support', ' ?', ' Protective-serv', ' Armed-Forces',\n",
       "       ' Priv-house-serv'], dtype=object)"
      ]
     },
     "execution_count": 25,
     "metadata": {},
     "output_type": "execute_result"
    }
   ],
   "source": [
    "df[\"occupation\"].unique()"
   ]
  },
  {
   "cell_type": "code",
   "execution_count": 26,
   "id": "929b023d",
   "metadata": {},
   "outputs": [],
   "source": [
    "valores=[]\n",
    "for x in df[\"occupation\"]:\n",
    "    valores.append(x.strip())\n",
    "\n",
    "df[\"occupation\"]= valores"
   ]
  },
  {
   "cell_type": "code",
   "execution_count": 27,
   "id": "1ab24160",
   "metadata": {},
   "outputs": [],
   "source": [
    "occupation_map = {\n",
    "    'Adm-clerical': 'Administrativo / Oficina',\n",
    "    'Exec-managerial': 'Ejecutivo / Gerencial',\n",
    "    'Handlers-cleaners': 'Manipuladores / Limpiadores',\n",
    "    'Prof-specialty': 'Profesional / Especialista',\n",
    "    'Other-service': 'Otros servicios',\n",
    "    'Sales': 'Ventas',\n",
    "    'Craft-repair': 'Oficios / Reparaciones',\n",
    "    'Transport-moving': 'Transporte / Movimiento',\n",
    "    'Farming-fishing': 'Agricultura / Pesca',\n",
    "    'Machine-op-inspct': 'Operador / Inspector de máquinas',\n",
    "    'Tech-support': 'Soporte técnico',\n",
    "    '?': 'Desconocido / No especificado',\n",
    "    'Protective-serv': 'Servicios de protección / Seguridad',\n",
    "    'Armed-Forces': 'Fuerzas armadas',\n",
    "    'Priv-house-serv': 'Servicio doméstico'\n",
    "}\n",
    "\n",
    "df[\"occupation\"]= df[\"occupation\"].map(occupation_map)"
   ]
  },
  {
   "cell_type": "code",
   "execution_count": 28,
   "id": "95d7e836",
   "metadata": {},
   "outputs": [
    {
     "data": {
      "text/plain": [
       "array(['Administrativo / Oficina', 'Ejecutivo / Gerencial',\n",
       "       'Manipuladores / Limpiadores', 'Profesional / Especialista',\n",
       "       'Otros servicios', 'Ventas', 'Oficios / Reparaciones',\n",
       "       'Transporte / Movimiento', 'Agricultura / Pesca',\n",
       "       'Operador / Inspector de máquinas', 'Soporte técnico',\n",
       "       'Desconocido / No especificado',\n",
       "       'Servicios de protección / Seguridad', 'Fuerzas armadas',\n",
       "       'Servicio doméstico'], dtype=object)"
      ]
     },
     "execution_count": 28,
     "metadata": {},
     "output_type": "execute_result"
    }
   ],
   "source": [
    "df[\"occupation\"].unique()"
   ]
  },
  {
   "cell_type": "code",
   "execution_count": 29,
   "id": "a356505e",
   "metadata": {},
   "outputs": [
    {
     "data": {
      "text/html": [
       "<div>\n",
       "<style scoped>\n",
       "    .dataframe tbody tr th:only-of-type {\n",
       "        vertical-align: middle;\n",
       "    }\n",
       "\n",
       "    .dataframe tbody tr th {\n",
       "        vertical-align: top;\n",
       "    }\n",
       "\n",
       "    .dataframe thead th {\n",
       "        text-align: right;\n",
       "    }\n",
       "</style>\n",
       "<table border=\"1\" class=\"dataframe\">\n",
       "  <thead>\n",
       "    <tr style=\"text-align: right;\">\n",
       "      <th></th>\n",
       "      <th>capital-gain</th>\n",
       "      <th>hours-per-week</th>\n",
       "    </tr>\n",
       "    <tr>\n",
       "      <th>occupation</th>\n",
       "      <th></th>\n",
       "      <th></th>\n",
       "    </tr>\n",
       "  </thead>\n",
       "  <tbody>\n",
       "    <tr>\n",
       "      <th>Profesional / Especialista</th>\n",
       "      <td>2726.699517</td>\n",
       "      <td>42.386715</td>\n",
       "    </tr>\n",
       "    <tr>\n",
       "      <th>Ejecutivo / Gerencial</th>\n",
       "      <td>2262.772996</td>\n",
       "      <td>44.987703</td>\n",
       "    </tr>\n",
       "    <tr>\n",
       "      <th>Ventas</th>\n",
       "      <td>1319.829315</td>\n",
       "      <td>40.781096</td>\n",
       "    </tr>\n",
       "    <tr>\n",
       "      <th>Servicios de protección / Seguridad</th>\n",
       "      <td>708.098613</td>\n",
       "      <td>42.870570</td>\n",
       "    </tr>\n",
       "    <tr>\n",
       "      <th>Soporte técnico</th>\n",
       "      <td>673.552802</td>\n",
       "      <td>39.432112</td>\n",
       "    </tr>\n",
       "    <tr>\n",
       "      <th>Oficios / Reparaciones</th>\n",
       "      <td>649.512808</td>\n",
       "      <td>42.304221</td>\n",
       "    </tr>\n",
       "    <tr>\n",
       "      <th>Desconocido / No especificado</th>\n",
       "      <td>604.491047</td>\n",
       "      <td>31.906131</td>\n",
       "    </tr>\n",
       "    <tr>\n",
       "      <th>Agricultura / Pesca</th>\n",
       "      <td>589.726358</td>\n",
       "      <td>46.989940</td>\n",
       "    </tr>\n",
       "    <tr>\n",
       "      <th>Administrativo / Oficina</th>\n",
       "      <td>495.954907</td>\n",
       "      <td>37.558355</td>\n",
       "    </tr>\n",
       "    <tr>\n",
       "      <th>Transporte / Movimiento</th>\n",
       "      <td>490.323732</td>\n",
       "      <td>44.656230</td>\n",
       "    </tr>\n",
       "    <tr>\n",
       "      <th>Operador / Inspector de máquinas</th>\n",
       "      <td>328.689311</td>\n",
       "      <td>40.755744</td>\n",
       "    </tr>\n",
       "    <tr>\n",
       "      <th>Servicio doméstico</th>\n",
       "      <td>279.852349</td>\n",
       "      <td>32.885906</td>\n",
       "    </tr>\n",
       "    <tr>\n",
       "      <th>Manipuladores / Limpiadores</th>\n",
       "      <td>257.572993</td>\n",
       "      <td>37.947445</td>\n",
       "    </tr>\n",
       "    <tr>\n",
       "      <th>Otros servicios</th>\n",
       "      <td>191.301669</td>\n",
       "      <td>34.701669</td>\n",
       "    </tr>\n",
       "    <tr>\n",
       "      <th>Fuerzas armadas</th>\n",
       "      <td>0.000000</td>\n",
       "      <td>40.666667</td>\n",
       "    </tr>\n",
       "  </tbody>\n",
       "</table>\n",
       "</div>"
      ],
      "text/plain": [
       "                                     capital-gain  hours-per-week\n",
       "occupation                                                       \n",
       "Profesional / Especialista            2726.699517       42.386715\n",
       "Ejecutivo / Gerencial                 2262.772996       44.987703\n",
       "Ventas                                1319.829315       40.781096\n",
       "Servicios de protección / Seguridad    708.098613       42.870570\n",
       "Soporte técnico                        673.552802       39.432112\n",
       "Oficios / Reparaciones                 649.512808       42.304221\n",
       "Desconocido / No especificado          604.491047       31.906131\n",
       "Agricultura / Pesca                    589.726358       46.989940\n",
       "Administrativo / Oficina               495.954907       37.558355\n",
       "Transporte / Movimiento                490.323732       44.656230\n",
       "Operador / Inspector de máquinas       328.689311       40.755744\n",
       "Servicio doméstico                     279.852349       32.885906\n",
       "Manipuladores / Limpiadores            257.572993       37.947445\n",
       "Otros servicios                        191.301669       34.701669\n",
       "Fuerzas armadas                          0.000000       40.666667"
      ]
     },
     "execution_count": 29,
     "metadata": {},
     "output_type": "execute_result"
    }
   ],
   "source": [
    "df.groupby(\"occupation\")[[\"capital-gain\",\"hours-per-week\"]].mean().sort_values(by=\"capital-gain\",ascending=False)"
   ]
  },
  {
   "cell_type": "code",
   "execution_count": 31,
   "id": "c742bb37",
   "metadata": {},
   "outputs": [],
   "source": [
    "oc_map = {\n",
    "    \"Profesional / Especialista\":15,\n",
    "    \"Ejecutivo / Gerencial\":14,\n",
    "    \"Ventas\":13,\n",
    "    \"Servicios de protección / Seguridad\":12,\n",
    "    \"Soporte técnico\":11,\n",
    "    \"Oficios / Reparaciones\":10,\n",
    "    \"Desconocido / No especificado\":9,\n",
    "    \"Agricultura / Pesca\":8,\n",
    "    \"Administrativo / Oficina\":7,\n",
    "    \"Transporte / Movimiento\":6,\n",
    "    \"Operador / Inspector de máquinas\":5,\n",
    "    \"Servicio doméstico\":4,\n",
    "    \"Manipuladores / Limpiadores\":3,\n",
    "    \"Otros servicios\":2,\n",
    "    \"Fuerzas armadas\":1\n",
    "}\n",
    "\n",
    "df[\"occ_ord\"] = df[\"occupation\"].map(oc_map)"
   ]
  },
  {
   "cell_type": "code",
   "execution_count": 34,
   "id": "d4411684",
   "metadata": {},
   "outputs": [],
   "source": [
    "df= pd.get_dummies(df,columns=[\"sex\"])"
   ]
  },
  {
   "cell_type": "code",
   "execution_count": 35,
   "id": "18d4a90d",
   "metadata": {},
   "outputs": [
    {
     "name": "stdout",
     "output_type": "stream",
     "text": [
      "<class 'pandas.core.frame.DataFrame'>\n",
      "RangeIndex: 32561 entries, 0 to 32560\n",
      "Data columns (total 29 columns):\n",
      " #   Column                                     Non-Null Count  Dtype \n",
      "---  ------                                     --------------  ----- \n",
      " 0   age                                        32561 non-null  int64 \n",
      " 1   workclass                                  32561 non-null  object\n",
      " 2   fnlwgt                                     32561 non-null  int64 \n",
      " 3   education                                  32561 non-null  object\n",
      " 4   education-num                              32561 non-null  int64 \n",
      " 5   occupation                                 32561 non-null  object\n",
      " 6   relationship                               32561 non-null  object\n",
      " 7   capital-gain                               32561 non-null  int64 \n",
      " 8   capital-loss                               32561 non-null  int64 \n",
      " 9   hours-per-week                             32561 non-null  int64 \n",
      " 10  native-country                             32561 non-null  object\n",
      " 11  income                                     32561 non-null  int64 \n",
      " 12  extras                                     32561 non-null  int64 \n",
      " 13  trabgajo_ord                               32561 non-null  int64 \n",
      " 14  marital-status_Casado/a (Fuerzas Armadas)  32561 non-null  bool  \n",
      " 15  marital-status_Casado/a (civil)            32561 non-null  bool  \n",
      " 16  marital-status_Cónyuge ausente             32561 non-null  bool  \n",
      " 17  marital-status_Divorciado/a                32561 non-null  bool  \n",
      " 18  marital-status_Nunca casado/a              32561 non-null  bool  \n",
      " 19  marital-status_Separado/a                  32561 non-null  bool  \n",
      " 20  marital-status_Viudo/a                     32561 non-null  bool  \n",
      " 21  race_ Amer-Indian-Eskimo                   32561 non-null  bool  \n",
      " 22  race_ Asian-Pac-Islander                   32561 non-null  bool  \n",
      " 23  race_ Black                                32561 non-null  bool  \n",
      " 24  race_ Other                                32561 non-null  bool  \n",
      " 25  race_ White                                32561 non-null  bool  \n",
      " 26  occ_ord                                    32561 non-null  int64 \n",
      " 27  sex_ Female                                32561 non-null  bool  \n",
      " 28  sex_ Male                                  32561 non-null  bool  \n",
      "dtypes: bool(14), int64(10), object(5)\n",
      "memory usage: 4.2+ MB\n"
     ]
    }
   ],
   "source": [
    "df.info()"
   ]
  },
  {
   "cell_type": "code",
   "execution_count": null,
   "id": "52c113b1",
   "metadata": {},
   "outputs": [],
   "source": []
  }
 ],
 "metadata": {
  "kernelspec": {
   "display_name": "Python 3",
   "language": "python",
   "name": "python3"
  },
  "language_info": {
   "codemirror_mode": {
    "name": "ipython",
    "version": 3
   },
   "file_extension": ".py",
   "mimetype": "text/x-python",
   "name": "python",
   "nbconvert_exporter": "python",
   "pygments_lexer": "ipython3",
   "version": "3.10.11"
  }
 },
 "nbformat": 4,
 "nbformat_minor": 5
}
